{
 "cells": [
  {
   "cell_type": "code",
   "execution_count": 1,
   "id": "202e211a-cd1b-487a-b491-084b0c6c596c",
   "metadata": {},
   "outputs": [],
   "source": [
    "import pandas as pd\n",
    "import itertools\n"
   ]
  },
  {
   "cell_type": "code",
   "execution_count": 2,
   "id": "28a33da5-b080-4444-b2aa-cd017e1439c5",
   "metadata": {},
   "outputs": [],
   "source": [
    "def get_combinations(lst): # creating a user-defined method\n",
    "   combination = [] # empty list \n",
    "   for r in range(1, len(lst)):\n",
    "      # to generate combination\n",
    "      combination.extend(itertools.combinations(lst, r))\n",
    "   return combination\n",
    "\n",
    "def intersection(lst1, lst2):\n",
    "    lst3 = [value for value in lst1 if value in lst2]\n",
    "    return lst3\n",
    "\n",
    "class Apriori(object):\n",
    "    \n",
    "    def __init__(self):\n",
    "        self.transactions = []\n",
    "        self.items_set = []\n",
    "        self.support_dict = {}\n",
    "\n",
    "    def fit(self, data, min_support=0.3, min_confidence=0.7):\n",
    "        self.min_support= min_support\n",
    "        self.min_confidence = min_confidence\n",
    "        \n",
    "        df = pd.DataFrame(data)\n",
    "\n",
    "        # create transactions list\n",
    "        for i in range(0,len(df)):\n",
    "            self.transactions.append([str(df.values[i,j]) for j in range(0, len(df.columns)) if str(df.values[i,j])!='nan'])\n",
    "\n",
    "        # unique items list\n",
    "        self.items_set  = {x for l in self.transactions for x in l}\n",
    "\n",
    "        all_combinations = get_combinations(self.items_set) # method call\n",
    "\n",
    "        #print(self.transactions)\n",
    "        \n",
    "        for item in all_combinations:\n",
    "            count = 0\n",
    "            for current_transaction in self.transactions:\n",
    "                if set(item).issubset(current_transaction):\n",
    "                    count = count + 1\n",
    "\n",
    "            support_value = count /  len(self.transactions)\n",
    "            if (support_value >= self.min_support):\n",
    "                self.support_dict[item] = count /  len(self.transactions)\n",
    "\n",
    "        rules = []\n",
    "\n",
    "        for curr_item in all_combinations:\n",
    "            for predict_item in all_combinations:\n",
    "                concat_list = curr_item + predict_item\n",
    "                if intersection(curr_item, predict_item) \\\n",
    "                or concat_list not in self.support_dict \\\n",
    "                or predict_item not in self.support_dict:\n",
    "                    continue\n",
    "\n",
    "                confidence = self.support_dict[concat_list] / self.support_dict[predict_item]\n",
    "                lift = confidence / self.support_dict[predict_item]\n",
    "\n",
    "                if (confidence < self.\n",
    "\n",
    "                current_rule = {'item': curr_item, 'possible combination': predict_item, 'support': self.support_dict[concat_list], 'confidence': confidence, 'lift': lift}\n",
    "                rules.append(current_rule)\n",
    "                \n",
    "        return rules\n",
    "        \n",
    "    def predict(self):\n",
    "        pass"
   ]
  },
  {
   "cell_type": "code",
   "execution_count": 13,
   "id": "e27a5442-a75d-421a-b4e2-a5b204b09cb0",
   "metadata": {},
   "outputs": [
    {
     "name": "stdout",
     "output_type": "stream",
     "text": [
      "[{'item': (' eggs',), 'possible combination': ('chutney',), 'support': 0.3333333333333333, 'confidence': 0.6666666666666666, 'lift': 1.3333333333333333}, {'item': ('meatballs',), 'possible combination': ('eggs',), 'support': 0.3333333333333333, 'confidence': 1.0, 'lift': 3.0}]\n"
     ]
    }
   ],
   "source": [
    "data = pd.read_csv('data/Market_Basket_Optimisation.csv')\n",
    "\n",
    "apriori = Apriori()\n",
    "rules = apriori.fit(data)\n",
    "\n",
    "print(rules)"
   ]
  }
 ],
 "metadata": {
  "kernelspec": {
   "display_name": "Python 3 (ipykernel)",
   "language": "python",
   "name": "python3"
  },
  "language_info": {
   "codemirror_mode": {
    "name": "ipython",
    "version": 3
   },
   "file_extension": ".py",
   "mimetype": "text/x-python",
   "name": "python",
   "nbconvert_exporter": "python",
   "pygments_lexer": "ipython3",
   "version": "3.12.2"
  }
 },
 "nbformat": 4,
 "nbformat_minor": 5
}
