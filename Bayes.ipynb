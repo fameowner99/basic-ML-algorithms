{
 "cells": [
  {
   "cell_type": "code",
   "execution_count": 1,
   "id": "1cfecf3b-ba8d-451e-8f9e-bfa173cf4b7a",
   "metadata": {},
   "outputs": [],
   "source": [
    "import pandas as pd\n",
    "from sklearn.model_selection import train_test_split\n",
    "from sklearn.base import clone"
   ]
  },
  {
   "cell_type": "code",
   "execution_count": 2,
   "id": "603a4b77-d2fa-4a2b-b404-aab7e262b01e",
   "metadata": {},
   "outputs": [],
   "source": [
    "class NaiveBayes(object):\n",
    "    \n",
    "    def __init__(self):\n",
    "        self.probability_dict = {}\n",
    "        self.features_dict = {}\n",
    "\n",
    "    def __total_count(self, cross_table):\n",
    "        total_count = dict()\n",
    "        for column in cross_table.columns:\n",
    "            for row in cross_table.iterrows():\n",
    "                total_count[row[0]] = 0\n",
    "    \n",
    "        for column in cross_table.columns:\n",
    "            for row in cross_table.iterrows():\n",
    "                total_count[row[0]] += cross_table[column][row[0]]\n",
    "                \n",
    "        return total_count\n",
    "\n",
    "    def __init_probability_dict(self, y):\n",
    "        df = pd.DataFrame(y)\n",
    "        \n",
    "        for label in set(y):\n",
    "            self.probability_dict[label] = {}\n",
    "            self.probability_dict[label][\"P\"] = df.value_counts()[label] / df.size\n",
    "    \n",
    "    def fit(self, X, y):\n",
    "        self.__init_probability_dict(y)\n",
    "        \n",
    "        dfx = pd.DataFrame(X)\n",
    "\n",
    "        for idx, feature in enumerate(dfx):\n",
    "            self.features_dict[idx] = feature\n",
    "            join_data = pd.DataFrame({\"variable\":dfx[feature], \"label\":y})\n",
    "            cross_table = pd.crosstab(join_data.variable, join_data.label)\n",
    "\n",
    "            total_count = self.__total_count(cross_table)\n",
    "\n",
    "            #print(feature)\n",
    "            \n",
    "            for column in cross_table.columns:\n",
    "                for row in cross_table.iterrows():\n",
    "                    self.probability_dict[column][f\"{feature}_{row[0]}\"] = cross_table[column][row[0]] / total_count[row[0]]\n",
    "\n",
    "        return self.probability_dict\n",
    "        \n",
    "    \n",
    "    def predict(self, X):\n",
    "        predict_result = []\n",
    "        \n",
    "        for item in X:\n",
    "            max_probability = 0\n",
    "            predict_key = \"\";\n",
    "            for key, value in self.probability_dict.items():\n",
    "                probability = self.probability_dict[key][\"P\"]\n",
    "                for idx, feature in enumerate(item):\n",
    "                    probability *= value[f\"{self.features_dict[idx]}_{feature}\"]\n",
    "\n",
    "                if max_probability < probability:\n",
    "                    max_probability = probability\n",
    "                    predict_key = key\n",
    "\n",
    "            predict_result.append(predict_key)\n",
    "\n",
    "        return predict_result\n",
    "\n",
    "    def get_params(self, deep=False):\n",
    "        return {}\n",
    "        "
   ]
  },
  {
   "cell_type": "code",
   "execution_count": 3,
   "id": "f71b4e1d-5597-43d9-b05a-db15be79dacd",
   "metadata": {},
   "outputs": [],
   "source": [
    "def cross_validation(df, clf):\n",
    "    clone_classifier = clone(clf)\n",
    "    df_train, df_test = train_test_split(data, test_size=0.3, random_state=77)\n",
    "\n",
    "    y_train = df_train[\"class\"].to_numpy()\n",
    "    X_train = df_train.drop(\"class\", axis=1).to_numpy()\n",
    "    \n",
    "    y_test = df_test[\"class\"].to_numpy()\n",
    "    X_test = df_test.drop(\"class\", axis=1).to_numpy()\n",
    "    clone_classifier.fit(X_train, y_train)\n",
    "    labels_predict = clone_classifier.predict(X_test)\n",
    "    n_correct = sum(labels_predict == y_test)\n",
    "    return n_correct / len(labels_predict)"
   ]
  },
  {
   "cell_type": "code",
   "execution_count": 4,
   "id": "6335a66e-22be-4bbb-baa1-b1cd9a396426",
   "metadata": {},
   "outputs": [
    {
     "name": "stdout",
     "output_type": "stream",
     "text": [
      "{'p': {'P': 0.48202855736090594, 'cap-shape_b': 0.10619469026548672, 'cap-shape_c': 1.0, 'cap-shape_f': 0.4936548223350254, 'cap-shape_k': 0.7246376811594203, 'cap-shape_s': 0.0, 'cap-shape_x': 0.4671772428884026, 'cap-surface_f': 0.3275862068965517, 'cap-surface_g': 1.0, 'cap-surface_s': 0.5524256651017214, 'cap-surface_y': 0.5363748458692972, 'cap-color_b': 0.7142857142857143, 'cap-color_c': 0.2727272727272727, 'cap-color_e': 0.584, 'cap-color_g': 0.4391304347826087, 'cap-color_n': 0.44658493870402804, 'cap-color_p': 0.6111111111111112, 'cap-color_r': 0.0, 'cap-color_u': 0.0, 'cap-color_w': 0.3076923076923077, 'cap-color_y': 0.6268656716417911, 'bruises_f': 0.6933445661331087, 'bruises_t': 0.1848341232227488, 'odor_a': 0.0, 'odor_c': 1.0, 'odor_f': 1.0, 'odor_l': 0.0, 'odor_m': 1.0, 'odor_n': 0.034013605442176874, 'odor_p': 1.0, 'odor_s': 1.0, 'odor_y': 1.0, 'gill-attachment_a': 0.08571428571428572, 'gill-attachment_f': 0.4925448572150619, 'gill-spacing_c': 0.5584263065179096, 'gill-spacing_w': 0.08536585365853659, 'gill-size_b': 0.3014967925873129, 'gill-size_n': 0.8853503184713376, 'gill-color_b': 1.0, 'gill-color_e': 0.0, 'gill-color_g': 0.6702127659574468, 'gill-color_h': 0.7213114754098361, 'gill-color_k': 0.1568627450980392, 'gill-color_n': 0.10687022900763359, 'gill-color_o': 0.0, 'gill-color_p': 0.4289544235924933, 'gill-color_r': 1.0, 'gill-color_u': 0.0975609756097561, 'gill-color_w': 0.20465890183028287, 'gill-color_y': 0.2558139534883721, 'stalk-shape_e': 0.540386803185438, 'stalk-shape_t': 0.4375, 'stalk-root_?': 0.7096774193548387, 'stalk-root_b': 0.4915254237288136, 'stalk-root_c': 0.07913669064748201, 'stalk-root_e': 0.22857142857142856, 'stalk-root_r': 0.0, 'stalk-surface-above-ring_f': 0.2608695652173913, 'stalk-surface-above-ring_k': 0.93929173693086, 'stalk-surface-above-ring_s': 0.29675425038639874, 'stalk-surface-above-ring_y': 0.3333333333333333, 'stalk-surface-below-ring_f': 0.24, 'stalk-surface-below-ring_k': 0.9375, 'stalk-surface-below-ring_s': 0.31118314424635335, 'stalk-surface-below-ring_y': 0.2676056338028169, 'stalk-color-above-ring_b': 1.0, 'stalk-color-above-ring_c': 1.0, 'stalk-color-above-ring_e': 0.0, 'stalk-color-above-ring_g': 0.0, 'stalk-color-above-ring_n': 0.9642857142857143, 'stalk-color-above-ring_o': 0.0, 'stalk-color-above-ring_p': 0.6923076923076923, 'stalk-color-above-ring_w': 0.3835125448028674, 'stalk-color-above-ring_y': 1.0, 'stalk-color-below-ring_b': 1.0, 'stalk-color-below-ring_c': 1.0, 'stalk-color-below-ring_e': 0.0, 'stalk-color-below-ring_g': 0.0, 'stalk-color-below-ring_n': 0.875, 'stalk-color-below-ring_o': 0.0, 'stalk-color-below-ring_p': 0.6923076923076923, 'stalk-color-below-ring_w': 0.38321167883211676, 'stalk-color-below-ring_y': 1.0, 'veil-type_p': 0.48202855736090594, 'veil-color_n': 0.0, 'veil-color_o': 0.0, 'veil-color_w': 0.49318525996971224, 'veil-color_y': 1.0, 'ring-number_n': 1.0, 'ring-number_o': 0.5085470085470085, 'ring-number_t': 0.12, 'ring-type_e': 0.6368876080691642, 'ring-type_f': 0.0, 'ring-type_l': 1.0, 'ring-type_n': 1.0, 'ring-type_p': 0.2056451612903226, 'spore-print-color_b': 0.0, 'spore-print-color_h': 0.9705882352941176, 'spore-print-color_k': 0.11965811965811966, 'spore-print-color_n': 0.11382113821138211, 'spore-print-color_o': 0.0, 'spore-print-color_r': 1.0, 'spore-print-color_u': 0.0, 'spore-print-color_w': 0.7587939698492462, 'spore-print-color_y': 0.0, 'population_a': 0.0, 'population_c': 0.15294117647058825, 'population_n': 0.0, 'population_s': 0.2948717948717949, 'population_v': 0.7049504950495049, 'population_y': 0.37850467289719625, 'habitat_d': 0.4027954256670902, 'habitat_g': 0.34450651769087526, 'habitat_l': 0.7115384615384616, 'habitat_m': 0.1232876712328767, 'habitat_p': 0.8811188811188811, 'habitat_u': 0.7391304347826086, 'habitat_w': 0.0}, 'e': {'P': 0.517971442639094, 'cap-shape_b': 0.8938053097345132, 'cap-shape_c': 0.0, 'cap-shape_f': 0.5063451776649747, 'cap-shape_k': 0.2753623188405797, 'cap-shape_s': 1.0, 'cap-shape_x': 0.5328227571115973, 'cap-surface_f': 0.6724137931034483, 'cap-surface_g': 0.0, 'cap-surface_s': 0.4475743348982786, 'cap-surface_y': 0.4636251541307028, 'cap-color_b': 0.2857142857142857, 'cap-color_c': 0.7272727272727273, 'cap-color_e': 0.416, 'cap-color_g': 0.5608695652173913, 'cap-color_n': 0.553415061295972, 'cap-color_p': 0.3888888888888889, 'cap-color_r': 1.0, 'cap-color_u': 1.0, 'cap-color_w': 0.6923076923076923, 'cap-color_y': 0.373134328358209, 'bruises_f': 0.3066554338668913, 'bruises_t': 0.8151658767772512, 'odor_a': 1.0, 'odor_c': 0.0, 'odor_f': 0.0, 'odor_l': 1.0, 'odor_m': 0.0, 'odor_n': 0.9659863945578231, 'odor_p': 0.0, 'odor_s': 0.0, 'odor_y': 0.0, 'gill-attachment_a': 0.9142857142857143, 'gill-attachment_f': 0.5074551427849381, 'gill-spacing_c': 0.4415736934820904, 'gill-spacing_w': 0.9146341463414634, 'gill-size_b': 0.6985032074126871, 'gill-size_n': 0.11464968152866242, 'gill-color_b': 0.0, 'gill-color_e': 1.0, 'gill-color_g': 0.32978723404255317, 'gill-color_h': 0.2786885245901639, 'gill-color_k': 0.8431372549019608, 'gill-color_n': 0.8931297709923665, 'gill-color_o': 1.0, 'gill-color_p': 0.5710455764075067, 'gill-color_r': 0.0, 'gill-color_u': 0.9024390243902439, 'gill-color_w': 0.7953410981697171, 'gill-color_y': 0.7441860465116279, 'stalk-shape_e': 0.459613196814562, 'stalk-shape_t': 0.5625, 'stalk-root_?': 0.2903225806451613, 'stalk-root_b': 0.5084745762711864, 'stalk-root_c': 0.920863309352518, 'stalk-root_e': 0.7714285714285715, 'stalk-root_r': 1.0, 'stalk-surface-above-ring_f': 0.7391304347826086, 'stalk-surface-above-ring_k': 0.06070826306913996, 'stalk-surface-above-ring_s': 0.7032457496136012, 'stalk-surface-above-ring_y': 0.6666666666666666, 'stalk-surface-below-ring_f': 0.76, 'stalk-surface-below-ring_k': 0.0625, 'stalk-surface-below-ring_s': 0.6888168557536467, 'stalk-surface-below-ring_y': 0.7323943661971831, 'stalk-color-above-ring_b': 0.0, 'stalk-color-above-ring_c': 0.0, 'stalk-color-above-ring_e': 1.0, 'stalk-color-above-ring_g': 1.0, 'stalk-color-above-ring_n': 0.03571428571428571, 'stalk-color-above-ring_o': 1.0, 'stalk-color-above-ring_p': 0.3076923076923077, 'stalk-color-above-ring_w': 0.6164874551971327, 'stalk-color-above-ring_y': 0.0, 'stalk-color-below-ring_b': 0.0, 'stalk-color-below-ring_c': 0.0, 'stalk-color-below-ring_e': 1.0, 'stalk-color-below-ring_g': 1.0, 'stalk-color-below-ring_n': 0.125, 'stalk-color-below-ring_o': 1.0, 'stalk-color-below-ring_p': 0.3076923076923077, 'stalk-color-below-ring_w': 0.6167883211678832, 'stalk-color-below-ring_y': 0.0, 'veil-type_p': 0.517971442639094, 'veil-color_n': 1.0, 'veil-color_o': 1.0, 'veil-color_w': 0.5068147400302877, 'veil-color_y': 0.0, 'ring-number_n': 0.0, 'ring-number_o': 0.49145299145299143, 'ring-number_t': 0.88, 'ring-type_e': 0.3631123919308357, 'ring-type_f': 1.0, 'ring-type_l': 0.0, 'ring-type_n': 0.0, 'ring-type_p': 0.7943548387096774, 'spore-print-color_b': 1.0, 'spore-print-color_h': 0.029411764705882353, 'spore-print-color_k': 0.8803418803418803, 'spore-print-color_n': 0.8861788617886179, 'spore-print-color_o': 1.0, 'spore-print-color_r': 0.0, 'spore-print-color_u': 1.0, 'spore-print-color_w': 0.24120603015075376, 'spore-print-color_y': 1.0, 'population_a': 1.0, 'population_c': 0.8470588235294118, 'population_n': 1.0, 'population_s': 0.7051282051282052, 'population_v': 0.29504950495049503, 'population_y': 0.6214953271028038, 'habitat_d': 0.5972045743329097, 'habitat_g': 0.6554934823091247, 'habitat_l': 0.28846153846153844, 'habitat_m': 0.8767123287671232, 'habitat_p': 0.11888111888111888, 'habitat_u': 0.2608695652173913, 'habitat_w': 1.0}}\n",
      "Accuracy = 0.9987694831829368\n"
     ]
    }
   ],
   "source": [
    "data = pd.read_csv('data/mushrooms.csv')\n",
    "y_play_badminton = data['class']\n",
    "\n",
    "x_play_badminton = data.drop(\"class\", axis=1)\n",
    "\n",
    "clf_naive_bayes = NaiveBayes()\n",
    "results = clf_naive_bayes.fit(x_play_badminton, y_play_badminton)\n",
    "print(results)\n",
    "\n",
    "cross_val = cross_validation(data, clf_naive_bayes)\n",
    "print(f\"Accuracy = {cross_val}\")"
   ]
  }
 ],
 "metadata": {
  "kernelspec": {
   "display_name": "Python 3 (ipykernel)",
   "language": "python",
   "name": "python3"
  },
  "language_info": {
   "codemirror_mode": {
    "name": "ipython",
    "version": 3
   },
   "file_extension": ".py",
   "mimetype": "text/x-python",
   "name": "python",
   "nbconvert_exporter": "python",
   "pygments_lexer": "ipython3",
   "version": "3.12.2"
  }
 },
 "nbformat": 4,
 "nbformat_minor": 5
}
