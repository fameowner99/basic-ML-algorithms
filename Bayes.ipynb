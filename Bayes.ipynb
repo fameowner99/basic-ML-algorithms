{
 "cells": [
  {
   "cell_type": "code",
   "execution_count": 1,
   "id": "1cfecf3b-ba8d-451e-8f9e-bfa173cf4b7a",
   "metadata": {},
   "outputs": [],
   "source": [
    "import pandas as pd\n",
    "from sklearn.model_selection import train_test_split\n",
    "from sklearn.base import clone"
   ]
  },
  {
   "cell_type": "code",
   "execution_count": 2,
   "id": "603a4b77-d2fa-4a2b-b404-aab7e262b01e",
   "metadata": {},
   "outputs": [],
   "source": [
    "class NaiveBayes(object):\n",
    "    \n",
    "    def __init__(self):\n",
    "        self.probability_dict = {}\n",
    "        self.features_dict = {}\n",
    "\n",
    "    def __total_count(self, cross_table):\n",
    "        total_count = dict()\n",
    "        for column in cross_table.columns:\n",
    "            for row in cross_table.iterrows():\n",
    "                total_count[row[0]] = 0\n",
    "    \n",
    "        for column in cross_table.columns:\n",
    "            for row in cross_table.iterrows():\n",
    "                total_count[row[0]] += cross_table[column][row[0]]\n",
    "                \n",
    "        return total_count\n",
    "\n",
    "    def __init_probability_dict(self, y):\n",
    "        df = pd.DataFrame(y)\n",
    "        \n",
    "        for label in set(y):\n",
    "            self.probability_dict[label] = {}\n",
    "            self.probability_dict[label][\"P\"] = df.value_counts()[label] / df.size\n",
    "    \n",
    "    def fit(self, X, y):\n",
    "        self.__init_probability_dict(y)\n",
    "        \n",
    "        dfx = pd.DataFrame(X)\n",
    "\n",
    "        for idx, feature in enumerate(dfx):\n",
    "            self.features_dict[idx] = feature\n",
    "            join_data = pd.DataFrame({\"variable\":dfx[feature], \"label\":y})\n",
    "            cross_table = pd.crosstab(join_data.variable, join_data.label)\n",
    "\n",
    "            total_count = self.__total_count(cross_table)\n",
    "\n",
    "            #print(feature)\n",
    "            \n",
    "            for column in cross_table.columns:\n",
    "                for row in cross_table.iterrows():\n",
    "                    self.probability_dict[column][f\"{feature}_{row[0]}\"] = cross_table[column][row[0]] / total_count[row[0]]\n",
    "\n",
    "        return self.probability_dict\n",
    "        \n",
    "    \n",
    "    def predict(self, X):\n",
    "        predict_result = []\n",
    "        \n",
    "        for item in X:\n",
    "            max_probability = 0\n",
    "            predict_key = \"\";\n",
    "            for key, value in self.probability_dict.items():\n",
    "                probability = self.probability_dict[key][\"P\"]\n",
    "                for idx, feature in enumerate(item):\n",
    "                    probability *= value[f\"{self.features_dict[idx]}_{feature}\"]\n",
    "\n",
    "                if max_probability < probability:\n",
    "                    max_probability = probability\n",
    "                    predict_key = key\n",
    "\n",
    "            predict_result.append(predict_key)\n",
    "\n",
    "        return predict_result\n",
    "\n",
    "    def get_params(self, deep=False):\n",
    "        return {}\n",
    "        "
   ]
  },
  {
   "cell_type": "code",
   "execution_count": 3,
   "id": "f71b4e1d-5597-43d9-b05a-db15be79dacd",
   "metadata": {},
   "outputs": [],
   "source": [
    "def cross_validation(df, clf):\n",
    "    clone_classifier = clone(clf)\n",
    "    df_train, df_test = train_test_split(data, test_size=0.3, random_state=77)\n",
    "\n",
    "    y_train = df_train[\"class\"].to_numpy()\n",
    "    X_train = df_train.drop(\"class\", axis=1).to_numpy()\n",
    "    \n",
    "    y_test = df_test[\"class\"].to_numpy()\n",
    "    X_test = df_test.drop(\"class\", axis=1).to_numpy()\n",
    "    clone_classifier.fit(X_train, y_train)\n",
    "    labels_predict = clone_classifier.predict(X_test)\n",
    "    n_correct = sum(labels_predict == y_test)\n",
    "    return n_correct / len(labels_predict)"
   ]
  },
  {
   "cell_type": "code",
   "execution_count": 4,
   "id": "6335a66e-22be-4bbb-baa1-b1cd9a396426",
   "metadata": {},
   "outputs": [
    {
     "name": "stdout",
     "output_type": "stream",
     "text": [
      "{'Yes': {'P': 0.3333333333333333, 'Outlook_Overcast': 0.5, 'Outlook_Rain': 0.0, 'Outlook_Sunny': 0.5, 'Temperature_Cool': 0.3333333333333333, 'Temperature_Hot': 0.3333333333333333, 'Temperature_Mild': 0.3333333333333333, 'Humidity_High': 0.3333333333333333, 'Humidity_Normal': 0.3333333333333333, 'Wind_Strong': 0.0, 'Wind_Weak': 0.6666666666666666}, 'No': {'P': 0.6666666666666666, 'Outlook_Overcast': 0.5, 'Outlook_Rain': 1.0, 'Outlook_Sunny': 0.5, 'Temperature_Cool': 0.6666666666666666, 'Temperature_Hot': 0.6666666666666666, 'Temperature_Mild': 0.6666666666666666, 'Humidity_High': 0.6666666666666666, 'Humidity_Normal': 0.6666666666666666, 'Wind_Strong': 1.0, 'Wind_Weak': 0.3333333333333333}}\n",
      "Accuracy = 0.7272727272727273\n"
     ]
    }
   ],
   "source": [
    "data = pd.read_csv('data/mushrooms.csv')\n",
    "y_play_badminton = data['class']\n",
    "\n",
    "x_play_badminton = data.drop(\"class\", axis=1)\n",
    "\n",
    "clf_naive_bayes = NaiveBayes()\n",
    "results = clf_naive_bayes.fit(x_play_badminton, y_play_badminton)\n",
    "print(results)\n",
    "\n",
    "cross_val = cross_validation(data, clf_naive_bayes)\n",
    "print(f\"Accuracy = {cross_val}\")"
   ]
  }
 ],
 "metadata": {
  "kernelspec": {
   "display_name": "Python 3 (ipykernel)",
   "language": "python",
   "name": "python3"
  },
  "language_info": {
   "codemirror_mode": {
    "name": "ipython",
    "version": 3
   },
   "file_extension": ".py",
   "mimetype": "text/x-python",
   "name": "python",
   "nbconvert_exporter": "python",
   "pygments_lexer": "ipython3",
   "version": "3.12.2"
  }
 },
 "nbformat": 4,
 "nbformat_minor": 5
}
