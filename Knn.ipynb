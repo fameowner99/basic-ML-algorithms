{
 "cells": [
  {
   "cell_type": "code",
   "execution_count": 1,
   "id": "f5488c3c-bac4-42f0-a90b-7b1d78eec46c",
   "metadata": {},
   "outputs": [],
   "source": [
    "import pandas as pd\n",
    "import numpy as np\n",
    "from sklearn.preprocessing import OneHotEncoder\n",
    "\n",
    "from sklearn.model_selection import train_test_split\n",
    "from sklearn.base import clone"
   ]
  },
  {
   "cell_type": "code",
   "execution_count": 2,
   "id": "904da2c8-9ec0-450e-8028-9ffb545c32cb",
   "metadata": {},
   "outputs": [],
   "source": [
    "def euclidean_distance(p, q):\n",
    "    return np.sqrt(np.sum((np.array(p) - np.array(q)) ** 2))\n",
    "\n",
    "def manhattan_distance(p, q):\n",
    "    return np.sum(np.absolute(np.array(p) - np.array(q)))\n",
    "\n",
    "def chebyshev_distance(p, q):\n",
    "    return np.max(np.absolute(np.array(p) - np.array(q)))\n",
    "\n",
    "def calculate_distance(metric, p, q):\n",
    "    if metric == \"manhattan\":\n",
    "        return manhattan_distance(p, q)\n",
    "    elif metric == \"chebyshev\":\n",
    "        return chebyshev_distance(p, q)\n",
    "\n",
    "    return euclidean_distance(p, q)\n",
    "\n",
    "class KNearestNeighbors(object):\n",
    "    \n",
    "    def __init__(self):\n",
    "        self.encoder = OneHotEncoder(sparse_output=False, handle_unknown='ignore')\n",
    "\n",
    "    def fit(self, X, y, k=3, metric=\"manhattan\"):\n",
    "        self.k = k\n",
    "        self.metric = metric\n",
    "        self.points = self.encoder.fit_transform(X)\n",
    "        self.labels = y\n",
    "\n",
    "    def predict(self, new_points):\n",
    "        prediction = []\n",
    "        \n",
    "        for new_point in new_points:\n",
    "            distances = np.array([])\n",
    "            encoded_point = self.encoder.transform(new_point)\n",
    "    \n",
    "            for point in self.points:\n",
    "                distance = calculate_distance(self.metric, point, encoded_point)\n",
    "                distances = np.append(distances, distance)\n",
    "    \n",
    "            min_indexes = distances.argsort()[:self.k]\n",
    "    \n",
    "            labels_count = {}\n",
    "            for index in min_indexes:\n",
    "                if not self.labels[index] in labels_count.keys():\n",
    "                    labels_count[self.labels[index]] = 1\n",
    "                else:\n",
    "                    labels_count[self.labels[index]] += 1\n",
    "\n",
    "            # to get max value from labels_count\n",
    "            prediction.append(max(labels_count, key=labels_count.get)[0])\n",
    "        return prediction\n",
    "\n",
    "    def get_params(self, deep = False):\n",
    "        return {}"
   ]
  },
  {
   "cell_type": "code",
   "execution_count": 3,
   "id": "04064e0f-7f7c-4bf7-b2e4-8de48c6c43e1",
   "metadata": {},
   "outputs": [],
   "source": [
    "def cross_validation(df, clf, label_field):\n",
    "    clone_classifier = clone(clf)\n",
    "    df_train, df_test = train_test_split(data, test_size=0.3, random_state=77)\n",
    "\n",
    "    y_train = df_train[label_field].to_numpy()\n",
    "    X_train = df_train.drop(label_field, axis=1).to_numpy()\n",
    "    \n",
    "    y_test = df_test[label_field].to_numpy()\n",
    "    X_test = df_test.drop(label_field, axis=1).to_numpy()\n",
    "    clone_classifier.fit(X_train, y_train)\n",
    "\n",
    "    X_test_reshaped = [];\n",
    "    for item in X_test:\n",
    "        X_test_reshaped.append(np.array([item]))\n",
    "    \n",
    "    labels_predict = clone_classifier.predict(X_test_reshaped)\n",
    "    n_correct = sum(labels_predict == y_test)\n",
    "    return n_correct / len(labels_predict)"
   ]
  },
  {
   "cell_type": "code",
   "execution_count": 4,
   "id": "1e0bf96e-ed61-4cd1-b4c6-cc66110ce4c3",
   "metadata": {},
   "outputs": [
    {
     "name": "stdout",
     "output_type": "stream",
     "text": [
      "cross validation = 1.0\n"
     ]
    }
   ],
   "source": [
    "data = pd.read_csv('data/mushrooms.csv')\n",
    "y_mush = data['class']\n",
    "x_mush = data.drop(\"class\", axis=1)\n",
    "\n",
    "clf_mushrooms = KNearestNeighbors()\n",
    "results = clf_mushrooms.fit(x_mush, y_mush)\n",
    "\n",
    "# prediction = clf_mushrooms.predict([\n",
    "#     [['f','f','n','f','n','f','c','n','k','e','e','s','s','w','w','p','w','o','p','k','y','u']],\n",
    "#     [['b','y','w','t','l','f','c','b','n','e','c','s','s','w','w','p','w','o','p','n','s','m']],\n",
    "#     [['x','y','w','t','p','f','c','n','p','e','e','s','s','w','w','p','w','o','p','k','v','g']]\n",
    "# ])\n",
    "\n",
    "# print(f\"prediction = {prediction}\")\n",
    "cross_val = cross_validation(data, clf_mushrooms, \"class\")\n",
    "print(f\"cross validation = {cross_val}\")\n"
   ]
  },
  {
   "cell_type": "code",
   "execution_count": 9,
   "id": "371dbcc4-28cd-43d1-ad38-e0b8428dc289",
   "metadata": {},
   "outputs": [],
   "source": [
    "class KNearestNeighborsRegression(object):\n",
    "    \n",
    "    def __init__(self):\n",
    "        self.encoder = OneHotEncoder(sparse_output=False, handle_unknown='ignore')\n",
    "\n",
    "    def fit(self, X, y, k=3, metric=\"manhattan\"):\n",
    "        self.k = k\n",
    "        self.metric = metric\n",
    "        self.points = self.encoder.fit_transform(X)\n",
    "        self.labels = y\n",
    "\n",
    "    def predict(self, new_points):\n",
    "        prediction = []\n",
    "        \n",
    "        for new_point in new_points:\n",
    "            distances = np.array([])\n",
    "            #print(new_point)\n",
    "            encoded_point = self.encoder.transform(new_point)\n",
    "    \n",
    "            for point in self.points:\n",
    "                distance = calculate_distance(self.metric, point, encoded_point)\n",
    "                distances = np.append(distances, distance)\n",
    "    \n",
    "            min_indexes = distances.argsort()[:self.k]\n",
    "    \n",
    "            total = 0\n",
    "            for index in min_indexes:\n",
    "                #print(self.labels[index])\n",
    "                total += self.labels[index]\n",
    "\n",
    "            average = total / self.k\n",
    "            #print(average)\n",
    "\n",
    "            # to get max value from labels_count\n",
    "            prediction.append(average)\n",
    "        return prediction\n",
    "\n",
    "    def get_params(self, deep = False):\n",
    "         return {}\n"
   ]
  },
  {
   "cell_type": "code",
   "execution_count": 10,
   "id": "219ec030-0e81-40a5-abfc-a8999e18a03d",
   "metadata": {},
   "outputs": [
    {
     "name": "stdout",
     "output_type": "stream",
     "text": [
      "Accuracy = 0.03333333333333333 (no sense to use accuracy in such way, it's wrong)\n"
     ]
    }
   ],
   "source": [
    "data = pd.read_csv('data/cars.csv')\n",
    "data = data.drop(\"Car_ID\", axis=1)\n",
    "y_cars = data['Price']\n",
    "x_cars = data.drop(\"Price\", axis=1)\n",
    "\n",
    "clf_cars = KNearestNeighborsRegression()\n",
    "results = clf_cars.fit(x_cars, y_cars)\n",
    "\n",
    "# print(f\"prediction = {prediction}\")\n",
    "cross_val = cross_validation(data, clf_cars, \"Price\")\n",
    "print(f\"Accuracy = {cross_val} (no sense to use accuracy in such way, it's wrong)\")"
   ]
  }
 ],
 "metadata": {
  "kernelspec": {
   "display_name": "Python 3 (ipykernel)",
   "language": "python",
   "name": "python3"
  },
  "language_info": {
   "codemirror_mode": {
    "name": "ipython",
    "version": 3
   },
   "file_extension": ".py",
   "mimetype": "text/x-python",
   "name": "python",
   "nbconvert_exporter": "python",
   "pygments_lexer": "ipython3",
   "version": "3.12.2"
  }
 },
 "nbformat": 4,
 "nbformat_minor": 5
}
