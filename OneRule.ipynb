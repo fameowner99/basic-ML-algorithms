{
 "cells": [
  {
   "cell_type": "code",
   "execution_count": 1,
   "id": "a65dfceb-43af-4ff7-aace-651c52ad9e3e",
   "metadata": {},
   "outputs": [],
   "source": [
    "import pandas as pd\n",
    "from sklearn.model_selection import train_test_split\n",
    "from sklearn.base import clone"
   ]
  },
  {
   "cell_type": "code",
   "execution_count": 2,
   "id": "fa785d0b-626f-4f06-94b7-3c9a8a4c090c",
   "metadata": {},
   "outputs": [],
   "source": [
    "class OneR(object):\n",
    "    \n",
    "    def __init__(self):\n",
    "        self.ideal_feature = None\n",
    "        self.ideal_feature_index = 0\n",
    "        self.max_accuracy = 0\n",
    "        self.result = dict()\n",
    "    \n",
    "    def fit(self, X, y):\n",
    "        response = list()\n",
    "        \n",
    "        dfx = pd.DataFrame(X)\n",
    "        \n",
    "        for feature_index, feature in enumerate(dfx):\n",
    "            self.result[str(feature)] = dict()\n",
    "            options_values = set(dfx[feature])\n",
    "            join_data = pd.DataFrame({\"variable\":dfx[feature], \"label\":y})\n",
    "            cross_table = pd.crosstab(join_data.variable, join_data.label)   \n",
    "\n",
    "            summary = cross_table.idxmax(axis=1)\n",
    "            self.result[str(feature)] = dict(summary)\n",
    "    \n",
    "            correct_answers = 0\n",
    "            for idx, row in join_data.iterrows():\n",
    "                if row['label'] == self.result[str(feature)][row['variable']]:\n",
    "                    correct_answers += 1\n",
    "\n",
    "            accuracy = (correct_answers/len(y))\n",
    "            \n",
    "            if accuracy > self.max_accuracy:\n",
    "                self.max_accuracy = accuracy\n",
    "                self.ideal_feature = feature\n",
    "                self.ideal_feature_index = feature_index\n",
    "\n",
    "            result_feature = {\"feature\": str(feature), \"accuracy\":accuracy, \"rules\": self.result[str(feature)] } \n",
    "            print(result_feature)\n",
    "            response.append(result_feature)\n",
    "            \n",
    "        return response\n",
    "\n",
    "    def predict(self, X):\n",
    "        predict_result = []\n",
    "\n",
    "        print(self.result)\n",
    "\n",
    "        for item in X:\n",
    "            value = self.result[str(self.ideal_feature)][item[self.ideal_feature_index]]\n",
    "            predict_result.append(value)\n",
    "\n",
    "        return predict_result\n",
    "\n",
    "    def get_params(self, deep = False):\n",
    "        return {}\n",
    "           \n",
    "    def __repr__(self):\n",
    "        if self.ideal_feature != None:\n",
    "            message = \"Most accurate feature is: \" + str(self.ideal_feature)\n",
    "        else:\n",
    "            message = \"Cannot choose most accurate feature\"\n",
    "        return message"
   ]
  },
  {
   "cell_type": "code",
   "execution_count": 3,
   "id": "bd28761b-e49d-473a-9991-b2b13cc3ccd7",
   "metadata": {},
   "outputs": [],
   "source": [
    "data = pd.read_csv('data/mushrooms.csv')\n",
    "y_mush = data['class']\n",
    "\n",
    "x_mush = data.drop(\"class\", axis=1)"
   ]
  },
  {
   "cell_type": "code",
   "execution_count": 4,
   "id": "4295db4d-6b39-4177-a918-a68060b20dac",
   "metadata": {},
   "outputs": [],
   "source": [
    "def cross_validation(df, clf):\n",
    "    clone_classifier = clone(clf)\n",
    "    df_train, df_test = train_test_split(data, test_size=0.3, random_state=77)\n",
    "\n",
    "    y_train = df_train[\"class\"].to_numpy()\n",
    "    X_train = df_train.drop(\"class\", axis=1).to_numpy()\n",
    "    \n",
    "    y_test = df_test[\"class\"].to_numpy()\n",
    "    X_test = df_test.drop(\"class\", axis=1).to_numpy()\n",
    "    clone_classifier.fit(X_train, y_train)\n",
    "    labels_predict = clone_classifier.predict(X_test)\n",
    "    n_correct = sum(labels_predict == y_test)\n",
    "    return n_correct / len(labels_predict)"
   ]
  },
  {
   "cell_type": "code",
   "execution_count": 5,
   "id": "983aebd6-44f3-4f77-b807-f9ba184e9ed0",
   "metadata": {},
   "outputs": [
    {
     "name": "stdout",
     "output_type": "stream",
     "text": [
      "{'feature': '0', 'accuracy': 0.5589166373549068, 'rules': {'b': 'e', 'c': 'p', 'f': 'e', 'k': 'p', 's': 'e', 'x': 'e'}}\n",
      "{'feature': '1', 'accuracy': 0.5798452339078438, 'rules': {'f': 'e', 'g': 'p', 's': 'p', 'y': 'p'}}\n",
      "{'feature': '2', 'accuracy': 0.5946183608863876, 'rules': {'b': 'p', 'c': 'e', 'e': 'p', 'g': 'e', 'n': 'e', 'p': 'p', 'r': 'e', 'u': 'e', 'w': 'e', 'y': 'p'}}\n",
      "{'feature': '3', 'accuracy': 0.7449876890608512, 'rules': {'f': 'p', 't': 'e'}}\n",
      "{'feature': '4', 'accuracy': 0.9843475202251143, 'rules': {'a': 'e', 'c': 'p', 'f': 'p', 'l': 'e', 'm': 'p', 'n': 'e', 'p': 'p', 's': 'p', 'y': 'p'}}\n",
      "{'feature': '5', 'accuracy': 0.5114315863524446, 'rules': {'a': 'e', 'f': 'e'}}\n",
      "{'feature': '6', 'accuracy': 0.6178332747098135, 'rules': {'c': 'p', 'w': 'e'}}\n",
      "{'feature': '7', 'accuracy': 0.7511431586352445, 'rules': {'b': 'e', 'n': 'p'}}\n",
      "{'feature': '8', 'accuracy': 0.803904326415758, 'rules': {'b': 'p', 'e': 'e', 'g': 'p', 'h': 'p', 'k': 'e', 'n': 'e', 'o': 'e', 'p': 'e', 'r': 'p', 'u': 'e', 'w': 'e', 'y': 'e'}}\n",
      "{'feature': '9', 'accuracy': 0.5536405205768554, 'rules': {'e': 'p', 't': 'e'}}\n",
      "{'feature': '10', 'accuracy': 0.638937741822019, 'rules': {'?': 'p', 'b': 'p', 'c': 'e', 'e': 'e', 'r': 'e'}}\n",
      "{'feature': '11', 'accuracy': 0.7724234963067182, 'rules': {'f': 'e', 'k': 'p', 's': 'e', 'y': 'e'}}\n",
      "{'feature': '12', 'accuracy': 0.7611677805135421, 'rules': {'f': 'e', 'k': 'p', 's': 'e', 'y': 'e'}}\n",
      "{'feature': '13', 'accuracy': 0.7168483995779107, 'rules': {'b': 'p', 'c': 'p', 'e': 'e', 'g': 'e', 'n': 'p', 'o': 'e', 'p': 'p', 'w': 'e', 'y': 'p'}}\n",
      "{'feature': '14', 'accuracy': 0.7112205416813225, 'rules': {'b': 'p', 'c': 'p', 'e': 'e', 'g': 'e', 'n': 'p', 'o': 'e', 'p': 'p', 'w': 'e', 'y': 'p'}}\n",
      "{'feature': '15', 'accuracy': 0.5114315863524446, 'rules': {'p': 'e'}}\n",
      "{'feature': '16', 'accuracy': 0.5133661625043968, 'rules': {'n': 'e', 'o': 'e', 'w': 'p', 'y': 'p'}}\n",
      "{'feature': '17', 'accuracy': 0.5434400281392895, 'rules': {'n': 'p', 'o': 'p', 't': 'e'}}\n",
      "{'feature': '18', 'accuracy': 0.775589166373549, 'rules': {'e': 'p', 'f': 'e', 'l': 'p', 'n': 'p', 'p': 'e'}}\n",
      "{'feature': '19', 'accuracy': 0.8654590221596905, 'rules': {'b': 'e', 'h': 'p', 'k': 'e', 'n': 'e', 'o': 'e', 'r': 'p', 'u': 'e', 'w': 'p', 'y': 'e'}}\n",
      "{'feature': '20', 'accuracy': 0.7203658107632782, 'rules': {'a': 'e', 'c': 'e', 'n': 'e', 's': 'e', 'v': 'p', 'y': 'e'}}\n",
      "{'feature': '21', 'accuracy': 0.684488216672529, 'rules': {'d': 'e', 'g': 'e', 'l': 'p', 'm': 'e', 'p': 'p', 'u': 'p', 'w': 'e'}}\n",
      "{'0': {'b': 'e', 'c': 'p', 'f': 'e', 'k': 'p', 's': 'e', 'x': 'e'}, '1': {'f': 'e', 'g': 'p', 's': 'p', 'y': 'p'}, '2': {'b': 'p', 'c': 'e', 'e': 'p', 'g': 'e', 'n': 'e', 'p': 'p', 'r': 'e', 'u': 'e', 'w': 'e', 'y': 'p'}, '3': {'f': 'p', 't': 'e'}, '4': {'a': 'e', 'c': 'p', 'f': 'p', 'l': 'e', 'm': 'p', 'n': 'e', 'p': 'p', 's': 'p', 'y': 'p'}, '5': {'a': 'e', 'f': 'e'}, '6': {'c': 'p', 'w': 'e'}, '7': {'b': 'e', 'n': 'p'}, '8': {'b': 'p', 'e': 'e', 'g': 'p', 'h': 'p', 'k': 'e', 'n': 'e', 'o': 'e', 'p': 'e', 'r': 'p', 'u': 'e', 'w': 'e', 'y': 'e'}, '9': {'e': 'p', 't': 'e'}, '10': {'?': 'p', 'b': 'p', 'c': 'e', 'e': 'e', 'r': 'e'}, '11': {'f': 'e', 'k': 'p', 's': 'e', 'y': 'e'}, '12': {'f': 'e', 'k': 'p', 's': 'e', 'y': 'e'}, '13': {'b': 'p', 'c': 'p', 'e': 'e', 'g': 'e', 'n': 'p', 'o': 'e', 'p': 'p', 'w': 'e', 'y': 'p'}, '14': {'b': 'p', 'c': 'p', 'e': 'e', 'g': 'e', 'n': 'p', 'o': 'e', 'p': 'p', 'w': 'e', 'y': 'p'}, '15': {'p': 'e'}, '16': {'n': 'e', 'o': 'e', 'w': 'p', 'y': 'p'}, '17': {'n': 'p', 'o': 'p', 't': 'e'}, '18': {'e': 'p', 'f': 'e', 'l': 'p', 'n': 'p', 'p': 'e'}, '19': {'b': 'e', 'h': 'p', 'k': 'e', 'n': 'e', 'o': 'e', 'r': 'p', 'u': 'e', 'w': 'p', 'y': 'e'}, '20': {'a': 'e', 'c': 'e', 'n': 'e', 's': 'e', 'v': 'p', 'y': 'e'}, '21': {'d': 'e', 'g': 'e', 'l': 'p', 'm': 'e', 'p': 'p', 'u': 'p', 'w': 'e'}}\n",
      "Accuracy = 0.9872846595570139\n"
     ]
    }
   ],
   "source": [
    "clf_mushrooms = OneR()\n",
    "#results = clf_mushrooms.fit(x_mush, y_mush)\n",
    "\n",
    "#print(results)\n",
    "#print(clf_mushrooms)\n",
    "\n",
    "#predicted_data = clf_mushrooms.predict(\n",
    "#    [[\"x\" ,\"s\", \"g\", \"f\", \"n\", \"f\", \"w\", \"b\", \"k\", \"t\", \"e\", \"s\", \"s\", \"w\", \"w\", \"p\", \"w\", \"o\", \"e\", \"n\", \"a\", \"g\"],\n",
    "#    [\"x\", \"y\", \"w\", \"t\", \"p\", \"f\", \"c\", \"n\", \"p\", \"e\", \"e\", \"s\",\"s\",\"w\",\"w\",\"p\",\"w\",\"o\",\"p\",\"k\",\"v\",\"g\"]])\n",
    "#print(f\"predict = {predicted_data}\")\n",
    "\n",
    "cross_val = cross_validation(data, clf_mushrooms)\n",
    "print(f\"Accuracy = {cross_val}\")\n"
   ]
  }
 ],
 "metadata": {
  "kernelspec": {
   "display_name": "Python 3 (ipykernel)",
   "language": "python",
   "name": "python3"
  },
  "language_info": {
   "codemirror_mode": {
    "name": "ipython",
    "version": 3
   },
   "file_extension": ".py",
   "mimetype": "text/x-python",
   "name": "python",
   "nbconvert_exporter": "python",
   "pygments_lexer": "ipython3",
   "version": "3.12.2"
  }
 },
 "nbformat": 4,
 "nbformat_minor": 5
}
